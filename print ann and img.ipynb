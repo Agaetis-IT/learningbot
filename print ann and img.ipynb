{
 "cells": [
  {
   "cell_type": "code",
   "execution_count": 1,
   "metadata": {},
   "outputs": [
    {
     "data": {
      "text/plain": [
       "\"\\nThis programm is not essential. \\n\\nIt just allows you to see your dataset with boxes.\\nDon't forget to %pip install scikit-image\\n\""
      ]
     },
     "execution_count": 1,
     "metadata": {},
     "output_type": "execute_result"
    }
   ],
   "source": [
    "\"\"\"\n",
    "This programm is not essential. \n",
    "\n",
    "It just allows you to see your dataset with boxes.\n",
    "Don't forget to %pip install scikit-image\n",
    "\"\"\""
   ]
  },
  {
   "cell_type": "code",
   "execution_count": 2,
   "metadata": {},
   "outputs": [],
   "source": [
    "%matplotlib inline\n",
    "import random\n",
    "import time\n",
    "import numpy as np\n",
    "from skimage import io\n",
    "import matplotlib.pyplot as plt\n",
    "from matplotlib.patches import Rectangle\n",
    "import tensorflow as tf\n",
    "from pylab import rcParams\n",
    "import os\n",
    "import json\n",
    "\n",
    "\n",
    "\n",
    "MODEL_PATH = '../data/model_artif/'\n",
    "SAMPLES_PATHS = ['Images+json/']\n",
    "\n"
   ]
  },
  {
   "cell_type": "code",
   "execution_count": 3,
   "metadata": {},
   "outputs": [],
   "source": [
    "def LoadImage(fname):\n",
    "    return io.imread(fname)[:,:] / 255.\n"
   ]
  },
  {
   "cell_type": "code",
   "execution_count": 4,
   "metadata": {},
   "outputs": [],
   "source": [
    "def LoadAnnotation(fname):\n",
    "    left=[]\n",
    "    top=[]\n",
    "    right=[]\n",
    "    bottom=[]\n",
    "    \n",
    "    with open(fname) as data_file:    \n",
    "        data = json.load(data_file)       \n",
    "    \n",
    "    height, width = data[\"size\"][\"height\"],  data[\"size\"][\"width\"]\n",
    "          \n",
    "    \n",
    "    for bbox in data[\"objects\"]:\n",
    "        \n",
    "        #We need to rectify flip_vert and flip_hori\n",
    "        if \"flip_vert\" in data[\"tags\"]:\n",
    "            bbox[\"points\"][\"exterior\"][0][0]=width/2-(bbox[\"points\"][\"exterior\"][0][0]-width/2)\n",
    "            bbox[\"points\"][\"exterior\"][1][0]=width/2-(bbox[\"points\"][\"exterior\"][1][0]-width/2)\n",
    "        if \"flip_hori\" in data[\"tags\"]:\n",
    "            bbox[\"points\"][\"exterior\"][0][1]=height/2-(bbox[\"points\"][\"exterior\"][0][1]-height/2)\n",
    "            bbox[\"points\"][\"exterior\"][1][1]=height/2-(bbox[\"points\"][\"exterior\"][1][1]-height/2)\n",
    "                \n",
    "                \n",
    "        if (bbox[\"points\"][\"exterior\"][0][0]<bbox[\"points\"][\"exterior\"][1][0]):\n",
    "            left.append(bbox[\"points\"][\"exterior\"][0][0])\n",
    "            right.append(bbox[\"points\"][\"exterior\"][1][0])\n",
    "        else :\n",
    "            left.append(bbox[\"points\"][\"exterior\"][1][0])\n",
    "            right.append(bbox[\"points\"][\"exterior\"][0][0])\n",
    "        if (bbox[\"points\"][\"exterior\"][0][1]<bbox[\"points\"][\"exterior\"][1][1]):\n",
    "            top.append(bbox[\"points\"][\"exterior\"][0][1])\n",
    "            bottom.append(bbox[\"points\"][\"exterior\"][1][1])\n",
    "        else :\n",
    "            top.append(bbox[\"points\"][\"exterior\"][1][1])\n",
    "            bottom.append(bbox[\"points\"][\"exterior\"][0][1])\n",
    "    \n",
    "    return [left, top, right, bottom]"
   ]
  },
  {
   "cell_type": "code",
   "execution_count": 5,
   "metadata": {},
   "outputs": [],
   "source": [
    "def ReadDirFiles(dname):\n",
    "    paths = []\n",
    "    for file in os.listdir(os.path.join(dname, \"img\")):\n",
    "        if not(file.startswith(\".ipynb\")):\n",
    "            bname = os.path.basename(file).split(\".\")[0]\n",
    "\n",
    "            img_name = os.path.join(dname, \"img\", file)\n",
    "            ann_name = os.path.join(dname, \"ann\", bname + \".json\")\n",
    "            paths.append((img_name, ann_name))\n",
    "    return paths"
   ]
  },
  {
   "cell_type": "code",
   "execution_count": 6,
   "metadata": {},
   "outputs": [],
   "source": [
    "def ReadPaths(paths):\n",
    "    all_paths = []\n",
    "    for path in paths:\n",
    "        temp_paths = ReadDirFiles(path)\n",
    "        all_paths.extend(temp_paths)\n",
    "    return all_paths"
   ]
  },
  {
   "cell_type": "code",
   "execution_count": 7,
   "metadata": {},
   "outputs": [],
   "source": [
    "def get_tags(fname):\n",
    "    with open(fname) as data_file:\n",
    "        data = json.load(data_file)\n",
    "    tags = data[\"tags\"]\n",
    "    return tags"
   ]
  },
  {
   "cell_type": "code",
   "execution_count": 8,
   "metadata": {},
   "outputs": [],
   "source": [
    "# Split test data: 80% train, 10% validation, 10% test\n",
    "\n",
    "def train_test_split(paths, train_rate=0.8):\n",
    "    train_paths = []\n",
    "    valid_paths=[]\n",
    "    test_paths = []\n",
    "    \n",
    "    indices = np.arange(len(paths))\n",
    "    np.random.shuffle(indices)\n",
    "    \n",
    "    nTrain = int(len(paths) * train_rate)\n",
    "    nValid = (len(paths) - nTrain) // 2\n",
    "    nTest = len(paths) - nTrain - nValid\n",
    "    count=0\n",
    "    \n",
    "    for path in paths:\n",
    "        if (indices[count]<nTrain):\n",
    "            train_paths.append(path)\n",
    "        else :\n",
    "            if (indices[count]<nValid+nTrain):\n",
    "                valid_paths.append(path)\n",
    "            else:\n",
    "                test_paths.append(path)\n",
    "        count+=1\n",
    "    \n",
    "    return train_paths, valid_paths, test_paths"
   ]
  },
  {
   "cell_type": "code",
   "execution_count": 9,
   "metadata": {},
   "outputs": [],
   "source": [
    "def LoadData(paths):\n",
    "    xs = []\n",
    "    ys = []\n",
    "    for ex_paths in paths:\n",
    "        img_path = ex_paths[0]\n",
    "        ann_path = ex_paths[1]\n",
    "        xs.append(LoadImage(img_path))\n",
    "        #if (img_path.startswith('Images+json/img/monobloc')):\n",
    "        ys.append(LoadAnnotation(ann_path))\n",
    "        #else :\n",
    "        #    ys.append()\n",
    "    \n",
    "    return np.array(xs), np.array(ys)\n"
   ]
  },
  {
   "cell_type": "code",
   "execution_count": 10,
   "metadata": {},
   "outputs": [
    {
     "name": "stdout",
     "output_type": "stream",
     "text": [
      "7639\n",
      "424\n",
      "425\n"
     ]
    },
    {
     "ename": "FileNotFoundError",
     "evalue": "[Errno 2] No such file or directory: 'Images+json/ann/ztj.json'",
     "output_type": "error",
     "traceback": [
      "\u001b[0;31m---------------------------------------------------------------------------\u001b[0m",
      "\u001b[0;31mFileNotFoundError\u001b[0m                         Traceback (most recent call last)",
      "\u001b[0;32m<ipython-input-10-082fe2f1eb92>\u001b[0m in \u001b[0;36m<module>\u001b[0;34m()\u001b[0m\n\u001b[1;32m      8\u001b[0m \u001b[0;34m\u001b[0m\u001b[0m\n\u001b[1;32m      9\u001b[0m \u001b[0;34m\u001b[0m\u001b[0m\n\u001b[0;32m---> 10\u001b[0;31m \u001b[0mX_train\u001b[0m\u001b[0;34m,\u001b[0m \u001b[0mY_train\u001b[0m \u001b[0;34m=\u001b[0m \u001b[0mLoadData\u001b[0m\u001b[0;34m(\u001b[0m\u001b[0mtr_paths\u001b[0m\u001b[0;34m)\u001b[0m\u001b[0;34m\u001b[0m\u001b[0m\n\u001b[0m\u001b[1;32m     11\u001b[0m \u001b[0mX_valid\u001b[0m\u001b[0;34m,\u001b[0m \u001b[0mY_valid\u001b[0m \u001b[0;34m=\u001b[0m \u001b[0mLoadData\u001b[0m\u001b[0;34m(\u001b[0m\u001b[0mva_paths\u001b[0m\u001b[0;34m)\u001b[0m\u001b[0;34m\u001b[0m\u001b[0m\n\u001b[1;32m     12\u001b[0m \u001b[0mX_test\u001b[0m\u001b[0;34m,\u001b[0m \u001b[0mY_test\u001b[0m \u001b[0;34m=\u001b[0m \u001b[0mLoadData\u001b[0m\u001b[0;34m(\u001b[0m\u001b[0mte_paths\u001b[0m\u001b[0;34m)\u001b[0m\u001b[0;34m\u001b[0m\u001b[0m\n",
      "\u001b[0;32m<ipython-input-9-5b5534a1a688>\u001b[0m in \u001b[0;36mLoadData\u001b[0;34m(paths)\u001b[0m\n\u001b[1;32m      7\u001b[0m         \u001b[0mxs\u001b[0m\u001b[0;34m.\u001b[0m\u001b[0mappend\u001b[0m\u001b[0;34m(\u001b[0m\u001b[0mLoadImage\u001b[0m\u001b[0;34m(\u001b[0m\u001b[0mimg_path\u001b[0m\u001b[0;34m)\u001b[0m\u001b[0;34m)\u001b[0m\u001b[0;34m\u001b[0m\u001b[0m\n\u001b[1;32m      8\u001b[0m         \u001b[0;31m#if (img_path.startswith('Images+json/img/monobloc')):\u001b[0m\u001b[0;34m\u001b[0m\u001b[0;34m\u001b[0m\u001b[0m\n\u001b[0;32m----> 9\u001b[0;31m         \u001b[0mys\u001b[0m\u001b[0;34m.\u001b[0m\u001b[0mappend\u001b[0m\u001b[0;34m(\u001b[0m\u001b[0mLoadAnnotation\u001b[0m\u001b[0;34m(\u001b[0m\u001b[0mann_path\u001b[0m\u001b[0;34m)\u001b[0m\u001b[0;34m)\u001b[0m\u001b[0;34m\u001b[0m\u001b[0m\n\u001b[0m\u001b[1;32m     10\u001b[0m         \u001b[0;31m#else :\u001b[0m\u001b[0;34m\u001b[0m\u001b[0;34m\u001b[0m\u001b[0m\n\u001b[1;32m     11\u001b[0m         \u001b[0;31m#    ys.append()\u001b[0m\u001b[0;34m\u001b[0m\u001b[0;34m\u001b[0m\u001b[0m\n",
      "\u001b[0;32m<ipython-input-4-1860017f2367>\u001b[0m in \u001b[0;36mLoadAnnotation\u001b[0;34m(fname)\u001b[0m\n\u001b[1;32m      5\u001b[0m     \u001b[0mbottom\u001b[0m\u001b[0;34m=\u001b[0m\u001b[0;34m[\u001b[0m\u001b[0;34m]\u001b[0m\u001b[0;34m\u001b[0m\u001b[0m\n\u001b[1;32m      6\u001b[0m \u001b[0;34m\u001b[0m\u001b[0m\n\u001b[0;32m----> 7\u001b[0;31m     \u001b[0;32mwith\u001b[0m \u001b[0mopen\u001b[0m\u001b[0;34m(\u001b[0m\u001b[0mfname\u001b[0m\u001b[0;34m)\u001b[0m \u001b[0;32mas\u001b[0m \u001b[0mdata_file\u001b[0m\u001b[0;34m:\u001b[0m\u001b[0;34m\u001b[0m\u001b[0m\n\u001b[0m\u001b[1;32m      8\u001b[0m         \u001b[0mdata\u001b[0m \u001b[0;34m=\u001b[0m \u001b[0mjson\u001b[0m\u001b[0;34m.\u001b[0m\u001b[0mload\u001b[0m\u001b[0;34m(\u001b[0m\u001b[0mdata_file\u001b[0m\u001b[0;34m)\u001b[0m\u001b[0;34m\u001b[0m\u001b[0m\n\u001b[1;32m      9\u001b[0m \u001b[0;34m\u001b[0m\u001b[0m\n",
      "\u001b[0;31mFileNotFoundError\u001b[0m: [Errno 2] No such file or directory: 'Images+json/ann/ztj.json'"
     ]
    }
   ],
   "source": [
    "all_paths = ReadPaths(SAMPLES_PATHS)\n",
    "tr_paths, va_paths, te_paths = train_test_split(all_paths,0.9)\n",
    "\n",
    "print(len(tr_paths))\n",
    "print(len(va_paths))\n",
    "print(len(te_paths))\n",
    "\n",
    "\n",
    "\n",
    "X_train, Y_train = LoadData(tr_paths)\n",
    "X_valid, Y_valid = LoadData(va_paths)\n",
    "X_test, Y_test = LoadData(te_paths)\n",
    "\n",
    "print(\"check shapes:\")\n",
    "print(\"X_train - \", X_train.shape)\n",
    "print(\"Y_train - \", Y_train.shape)\n",
    "print(\"X_valid - \", X_valid.shape)\n",
    "print(\"Y_valid - \", Y_valid.shape)\n",
    "print(\"X_test - \", X_test.shape)\n",
    "print(\"Y_test - \", Y_test.shape)\n",
    "\n"
   ]
  },
  {
   "cell_type": "code",
   "execution_count": null,
   "metadata": {},
   "outputs": [],
   "source": [
    "#Show sample images\n",
    "\n",
    "\n",
    "def show_image(image, labels):\n",
    "    for i in range (len(labels[0])) :\n",
    "        rect = Rectangle((labels[0][i], labels[1][i]), labels[2][i]-labels[0][i], labels[3][i]-labels[1][i], edgecolor='r', fill=False)\n",
    "        plt.imshow(image)\n",
    "        gca = plt.gca()\n",
    "        gca.add_patch(rect)\n",
    "    \n",
    "def plot_images(images, labels):\n",
    "    rcParams['figure.figsize'] = 14, 8\n",
    "    plt.gray()\n",
    "    fig = plt.figure()\n",
    "    for i in range(min(9, images.shape[0])):\n",
    "        fig.add_subplot(3, 3, i+1)\n",
    "        show_image(images[i], labels[i])\n",
    "    plt.show()    \n",
    "    \n",
    "xs = [random.randint(0, Y_train.shape[0]-1) for _ in range(98)]\n",
    "plot_images(X_train[xs], Y_train[xs])\n",
    "\n",
    "\n"
   ]
  },
  {
   "cell_type": "code",
   "execution_count": null,
   "metadata": {},
   "outputs": [],
   "source": [
    "#Show the monobloc you want\n",
    "imono,lmono = LoadData([[\"Images+json/img/monobloc (0)_qMf7EgNi4r.png\",\"Images+json/ann/monobloc (0)_qMf7EgNi4r.json\"],[\"Images+json/img/monobloc (0)_SQVhqefiar.png\",\"Images+json/ann/monobloc (0)_SQVhqefiar.json\"]])\n",
    "\n",
    "plot_images(imono,lmono)\n",
    "print (lmono)"
   ]
  },
  {
   "cell_type": "code",
   "execution_count": null,
   "metadata": {},
   "outputs": [],
   "source": []
  },
  {
   "cell_type": "code",
   "execution_count": null,
   "metadata": {},
   "outputs": [],
   "source": []
  }
 ],
 "metadata": {
  "kernelspec": {
   "display_name": "Python 3",
   "language": "python",
   "name": "python3"
  },
  "language_info": {
   "codemirror_mode": {
    "name": "ipython",
    "version": 3
   },
   "file_extension": ".py",
   "mimetype": "text/x-python",
   "name": "python",
   "nbconvert_exporter": "python",
   "pygments_lexer": "ipython3",
   "version": "3.5.2"
  }
 },
 "nbformat": 4,
 "nbformat_minor": 2
}
